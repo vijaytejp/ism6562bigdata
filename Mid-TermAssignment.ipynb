{
 "cells": [
  {
   "cell_type": "code",
   "execution_count": 2,
   "metadata": {},
   "outputs": [],
   "source": [
    "#MID-TERM EXAMINATION\n",
    "#NAME : P .VIJAY TEJ\n",
    "\n",
    "#import pymongo # pymongo is a python driver for MongoDB\n",
    "import pymongo \n",
    "\n",
    "client = pymongo.MongoClient('mongodb://localhost:27017/')\n",
    "\n",
    "#creation of database \n",
    "db = client.ism6562"
   ]
  },
  {
   "cell_type": "code",
   "execution_count": 3,
   "metadata": {},
   "outputs": [],
   "source": [
    "#syntesize and load data into MongoDB.\n",
    "\n",
    "from random import randint, seed \n",
    "seed(1) # make the data reproducible (which will be important for later querrying)\n",
    "date = ['2023-12-01','2023-12-02','2023-12-03','2023-12-04','2023-12-05'] #dates posted by the user\n",
    "\n",
    "file_type =['image','text','video'] #types of files\n"
   ]
  },
  {
   "cell_type": "code",
   "execution_count": null,
   "metadata": {},
   "outputs": [],
   "source": [
    "with open ('text.txt','w') as f :\n",
    "    f.write(' Stating Main branch is not ')"
   ]
  },
  {
   "cell_type": "code",
   "execution_count": 4,
   "metadata": {},
   "outputs": [],
   "source": [
    "collection = db.chat_systems  # creating a new collection called chat system"
   ]
  },
  {
   "cell_type": "code",
   "execution_count": 6,
   "metadata": {},
   "outputs": [
    {
     "ename": "SyntaxError",
     "evalue": "invalid syntax (1544305899.py, line 3)",
     "output_type": "error",
     "traceback": [
      "\u001b[0;36m  Cell \u001b[0;32mIn[6], line 3\u001b[0;36m\u001b[0m\n\u001b[0;31m    for x in range [1,20];\u001b[0m\n\u001b[0m                         ^\u001b[0m\n\u001b[0;31mSyntaxError\u001b[0m\u001b[0;31m:\u001b[0m invalid syntax\n"
     ]
    }
   ],
   "source": [
    "#Created a file with the given requirements.\n",
    "\n",
    "for x in range [1,21];\n",
    "    \n",
    "made_up_business = {\n",
    "    'user_id': randint[0,21] #pulling various kinds of user_ids\n",
    "    'date' :date[randint(0,len(date) - 1)] #pulling different kind of dates\n",
    "    'file_type' : file_type[randint(0,len(file_type)-1)] #pulling different kind of file types\n",
    "    'file': var[randint(0,15):randint(0,len(var)-1)] #pulling different files\n",
    "}\n",
    "result = collection.insert_one(made_up_business) "
   ]
  },
  {
   "cell_type": "code",
   "execution_count": 7,
   "metadata": {},
   "outputs": [
    {
     "ename": "NameError",
     "evalue": "name 'results' is not defined",
     "output_type": "error",
     "traceback": [
      "\u001b[0;31m---------------------------------------------------------------------------\u001b[0m",
      "\u001b[0;31mNameError\u001b[0m                                 Traceback (most recent call last)",
      "\u001b[1;32m/home/student/Documents/bd-f23/W06/mongodb-local/Mid-TermAssignment.ipynb Cell 6\u001b[0m line \u001b[0;36m2\n\u001b[1;32m      <a href='vscode-notebook-cell:/home/student/Documents/bd-f23/W06/mongodb-local/Mid-TermAssignment.ipynb#X12sZmlsZQ%3D%3D?line=0'>1</a>\u001b[0m result \u001b[39m=\u001b[39m collection\u001b[39m.\u001b[39mfind()\n\u001b[0;32m----> <a href='vscode-notebook-cell:/home/student/Documents/bd-f23/W06/mongodb-local/Mid-TermAssignment.ipynb#X12sZmlsZQ%3D%3D?line=1'>2</a>\u001b[0m \u001b[39mfor\u001b[39;00m result \u001b[39min\u001b[39;00m results:\n\u001b[1;32m      <a href='vscode-notebook-cell:/home/student/Documents/bd-f23/W06/mongodb-local/Mid-TermAssignment.ipynb#X12sZmlsZQ%3D%3D?line=2'>3</a>\u001b[0m     \u001b[39mprint\u001b[39m(result)\n",
      "\u001b[0;31mNameError\u001b[0m: name 'results' is not defined"
     ]
    }
   ],
   "source": [
    "result = collection.find()\n",
    "for result in results:\n",
    "    print(result)"
   ]
  },
  {
   "cell_type": "markdown",
   "metadata": {},
   "source": [
    "#### Programming Examples Such as Addition of Records,Dropping of Records and Searching of Records"
   ]
  },
  {
   "cell_type": "code",
   "execution_count": null,
   "metadata": {},
   "outputs": [],
   "source": [
    "#Format used addition of Records\n",
    "\n",
    "def add_records(x,y,z,p={}\n",
    "    add_one ={\n",
    "        'user_id':x,'date':y,'file_type':z,'file':p\n",
    "    })"
   ]
  },
  {
   "cell_type": "code",
   "execution_count": null,
   "metadata": {},
   "outputs": [],
   "source": [
    "\n",
    "def return_attachments(x,y)\n",
    "    result = collection.find({'date':y})\n",
    "    for x in result:\n",
    "        print(x)\n"
   ]
  },
  {
   "cell_type": "code",
   "execution_count": null,
   "metadata": {},
   "outputs": [],
   "source": [
    "#dropping records in a file\n",
    "\n",
    "def drop_records(x)\n",
    "    result = collection.find({'date':y}\n",
    "    for x in result:\n",
    "        print(x)                         )"
   ]
  },
  {
   "cell_type": "code",
   "execution_count": null,
   "metadata": {},
   "outputs": [],
   "source": [
    "#Searching records in a file\n",
    "\n",
    "def search_records(x,y)\n",
    "    result = collection.find({'user_id':p})\n",
    "    for x in result:\n",
    "        print(x)"
   ]
  }
 ],
 "metadata": {
  "kernelspec": {
   "display_name": "DEV01",
   "language": "python",
   "name": "python3"
  },
  "language_info": {
   "codemirror_mode": {
    "name": "ipython",
    "version": 3
   },
   "file_extension": ".py",
   "mimetype": "text/x-python",
   "name": "python",
   "nbconvert_exporter": "python",
   "pygments_lexer": "ipython3",
   "version": "3.8.17"
  },
  "orig_nbformat": 4
 },
 "nbformat": 4,
 "nbformat_minor": 2
}
