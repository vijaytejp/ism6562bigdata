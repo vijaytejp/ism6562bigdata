{
 "cells": [
  {
   "cell_type": "markdown",
   "metadata": {},
   "source": []
  },
  {
   "cell_type": "markdown",
   "metadata": {},
   "source": [
    "# m14 Cassandra Python "
   ]
  },
  {
   "attachments": {},
   "cell_type": "markdown",
   "metadata": {},
   "source": [
    "### Import packages"
   ]
  },
  {
   "cell_type": "code",
   "execution_count": 2,
   "metadata": {},
   "outputs": [],
   "source": [
    "import pandas as pd\n",
    "from cassandra.cluster import Cluster"
   ]
  },
  {
   "attachments": {},
   "cell_type": "markdown",
   "metadata": {},
   "source": [
    "### Create a session connection to Cassandra cluster"
   ]
  },
  {
   "cell_type": "code",
   "execution_count": 3,
   "metadata": {},
   "outputs": [],
   "source": [
    "clstr = Cluster()\n",
    "session = clstr.connect()"
   ]
  },
  {
   "attachments": {},
   "cell_type": "markdown",
   "metadata": {},
   "source": [
    "### Use session to 'talk' to cassandra"
   ]
  },
  {
   "cell_type": "code",
   "execution_count": 4,
   "metadata": {},
   "outputs": [
    {
     "data": {
      "text/plain": [
       "<cassandra.cluster.ResultSet at 0x7f01d23b5d90>"
      ]
     },
     "execution_count": 4,
     "metadata": {},
     "output_type": "execute_result"
    }
   ],
   "source": [
    "session.execute(\"DROP KEYSPACE IF EXISTS m14python\")"
   ]
  },
  {
   "cell_type": "code",
   "execution_count": 5,
   "metadata": {},
   "outputs": [
    {
     "name": "stdout",
     "output_type": "stream",
     "text": [
      "system\n",
      "system_auth\n",
      "system_distributed\n",
      "system_schema\n",
      "system_traces\n",
      "system_views\n",
      "system_virtual_schema\n",
      "w04python\n"
     ]
    }
   ],
   "source": [
    "rows = session.execute(\"desc keyspaces\")\n",
    "for row in rows:\n",
    "    print(f\"{row[0]}\")"
   ]
  },
  {
   "cell_type": "code",
   "execution_count": 6,
   "metadata": {},
   "outputs": [
    {
     "data": {
      "text/plain": [
       "<cassandra.cluster.ResultSet at 0x7f0129222ac0>"
      ]
     },
     "execution_count": 6,
     "metadata": {},
     "output_type": "execute_result"
    }
   ],
   "source": [
    "session.execute(\"CREATE KEYSPACE IF NOT EXISTS m14python WITH REPLICATION = {'class':'SimpleStrategy', 'replication_factor':2}\")"
   ]
  },
  {
   "cell_type": "code",
   "execution_count": 7,
   "metadata": {},
   "outputs": [
    {
     "name": "stdout",
     "output_type": "stream",
     "text": [
      "m14python\n",
      "system\n",
      "system_auth\n",
      "system_distributed\n",
      "system_schema\n",
      "system_traces\n",
      "system_views\n",
      "system_virtual_schema\n",
      "w04python\n"
     ]
    }
   ],
   "source": [
    "rows = session.execute(\"desc keyspaces\")\n",
    "for row in rows:\n",
    "    print(f\"{row[0]}\")"
   ]
  },
  {
   "cell_type": "markdown",
   "metadata": {},
   "source": [
    "Create a warehouse table for testing"
   ]
  },
  {
   "cell_type": "code",
   "execution_count": 8,
   "metadata": {},
   "outputs": [
    {
     "data": {
      "text/plain": [
       "<cassandra.cluster.ResultSet at 0x7f01d23b58e0>"
      ]
     },
     "execution_count": 8,
     "metadata": {},
     "output_type": "execute_result"
    }
   ],
   "source": [
    "session.execute(\"\"\"\n",
    "CREATE TABLE IF NOT EXISTS m14python.warehouse ( \n",
    "    sku TEXT PRIMARY KEY, \n",
    "    name TEXT, \n",
    "    description TEXT, \n",
    "    warehouse_num INT,\n",
    ");\n",
    "\"\"\")"
   ]
  },
  {
   "attachments": {},
   "cell_type": "markdown",
   "metadata": {},
   "source": [
    "### Load data"
   ]
  },
  {
   "cell_type": "code",
   "execution_count": 9,
   "metadata": {},
   "outputs": [
    {
     "data": {
      "text/html": [
       "<div>\n",
       "<style scoped>\n",
       "    .dataframe tbody tr th:only-of-type {\n",
       "        vertical-align: middle;\n",
       "    }\n",
       "\n",
       "    .dataframe tbody tr th {\n",
       "        vertical-align: top;\n",
       "    }\n",
       "\n",
       "    .dataframe thead th {\n",
       "        text-align: right;\n",
       "    }\n",
       "</style>\n",
       "<table border=\"1\" class=\"dataframe\">\n",
       "  <thead>\n",
       "    <tr style=\"text-align: right;\">\n",
       "      <th></th>\n",
       "      <th>sku</th>\n",
       "      <th>name</th>\n",
       "      <th>description</th>\n",
       "      <th>warehouse_num</th>\n",
       "    </tr>\n",
       "  </thead>\n",
       "  <tbody>\n",
       "    <tr>\n",
       "      <th>0</th>\n",
       "      <td>SKU101</td>\n",
       "      <td>Smartphone Model X</td>\n",
       "      <td>Latest smartphone with AI capabilities</td>\n",
       "      <td>1</td>\n",
       "    </tr>\n",
       "    <tr>\n",
       "      <th>1</th>\n",
       "      <td>SKU102</td>\n",
       "      <td>Laptop Model Y</td>\n",
       "      <td>High-performance laptop for professionals</td>\n",
       "      <td>2</td>\n",
       "    </tr>\n",
       "    <tr>\n",
       "      <th>2</th>\n",
       "      <td>SKU103</td>\n",
       "      <td>Headphones Model Z</td>\n",
       "      <td>Wireless noise-canceling headphones</td>\n",
       "      <td>1</td>\n",
       "    </tr>\n",
       "    <tr>\n",
       "      <th>3</th>\n",
       "      <td>SKU104</td>\n",
       "      <td>Camera Model Alpha</td>\n",
       "      <td>Digital camera with 4K video recording</td>\n",
       "      <td>3</td>\n",
       "    </tr>\n",
       "    <tr>\n",
       "      <th>4</th>\n",
       "      <td>SKU105</td>\n",
       "      <td>Tablet Model Beta</td>\n",
       "      <td>10-inch tablet for entertainment and productivity</td>\n",
       "      <td>2</td>\n",
       "    </tr>\n",
       "  </tbody>\n",
       "</table>\n",
       "</div>"
      ],
      "text/plain": [
       "      sku                name  \\\n",
       "0  SKU101  Smartphone Model X   \n",
       "1  SKU102      Laptop Model Y   \n",
       "2  SKU103  Headphones Model Z   \n",
       "3  SKU104  Camera Model Alpha   \n",
       "4  SKU105   Tablet Model Beta   \n",
       "\n",
       "                                         description  warehouse_num  \n",
       "0             Latest smartphone with AI capabilities              1  \n",
       "1          High-performance laptop for professionals              2  \n",
       "2                Wireless noise-canceling headphones              1  \n",
       "3             Digital camera with 4K video recording              3  \n",
       "4  10-inch tablet for entertainment and productivity              2  "
      ]
     },
     "execution_count": 9,
     "metadata": {},
     "output_type": "execute_result"
    }
   ],
   "source": [
    "df = pd.read_csv('m14.csv')\n",
    "df"
   ]
  },
  {
   "cell_type": "code",
   "execution_count": 10,
   "metadata": {},
   "outputs": [
    {
     "name": "stdout",
     "output_type": "stream",
     "text": [
      "sku = SKU101, name =0, description = Latest smartphone with AI capabilities, warehouse_num = 1\n",
      "sku = SKU102, name =1, description = High-performance laptop for professionals, warehouse_num = 2\n",
      "sku = SKU103, name =2, description = Wireless noise-canceling headphones, warehouse_num = 1\n",
      "sku = SKU104, name =3, description = Digital camera with 4K video recording, warehouse_num = 3\n",
      "sku = SKU105, name =4, description = 10-inch tablet for entertainment and productivity, warehouse_num = 2\n"
     ]
    }
   ],
   "source": [
    "for index, row in df.iterrows():\n",
    "    print(f\"sku = {row.sku}, name ={row.name}, description = {row.description}, warehouse_num = {row.warehouse_num}\")"
   ]
  },
  {
   "cell_type": "code",
   "execution_count": null,
   "metadata": {},
   "outputs": [],
   "source": []
  },
  {
   "cell_type": "code",
   "execution_count": 18,
   "metadata": {},
   "outputs": [
    {
     "name": "stdout",
     "output_type": "stream",
     "text": [
      "\n",
      "        INSERT INTO m14python.warehouse (sku, name, description, warehouse_num)     \n",
      "        VALUES (SKU101, Smartphone Model X, Latest smartphone with AI capabilities, 1);\n",
      "        \n",
      "\n",
      "        INSERT INTO m14python.warehouse (sku, name, description, warehouse_num)     \n",
      "        VALUES (SKU102, Laptop Model Y, High-performance laptop for professionals, 2);\n",
      "        \n",
      "\n",
      "        INSERT INTO m14python.warehouse (sku, name, description, warehouse_num)     \n",
      "        VALUES (SKU103, Headphones Model Z, Wireless noise-canceling headphones, 1);\n",
      "        \n",
      "\n",
      "        INSERT INTO m14python.warehouse (sku, name, description, warehouse_num)     \n",
      "        VALUES (SKU104, Camera Model Alpha, Digital camera with 4K video recording, 3);\n",
      "        \n",
      "\n",
      "        INSERT INTO m14python.warehouse (sku, name, description, warehouse_num)     \n",
      "        VALUES (SKU105, Tablet Model Beta, 10-inch tablet for entertainment and productivity, 2);\n",
      "        \n"
     ]
    }
   ],
   "source": [
    "for index, row in df.iterrows():\n",
    "    print(f\"\"\"\n",
    "        INSERT INTO m14python.warehouse (sku, name, description, warehouse_num)     \n",
    "        VALUES ({row[0]}, {row[1]}, {row[2]}, {row[3]});\n",
    "        \"\"\"\n",
    "       )\n",
    "    session.execute(f\"\"\"\n",
    "        INSERT INTO m14python.warehouse (sku, name, description, warehouse_num)     \n",
    "        VALUES ('{row[0]}', '{row[1]}', '{row[2]}', {row[3]});\n",
    "        \"\"\"\n",
    "       )"
   ]
  },
  {
   "cell_type": "code",
   "execution_count": 19,
   "metadata": {},
   "outputs": [
    {
     "name": "stdout",
     "output_type": "stream",
     "text": [
      "sku=SKU103, name=Headphones Model Z, description=Wireless noise-canceling headphones, warehouse_num=1\n",
      "sku=SKU105, name=Tablet Model Beta, description=10-inch tablet for entertainment and productivity, warehouse_num=2\n",
      "sku=SKU104, name=Camera Model Alpha, description=Digital camera with 4K video recording, warehouse_num=3\n",
      "sku=SKU101, name=Smartphone Model X, description=Latest smartphone with AI capabilities, warehouse_num=1\n",
      "sku=SKU102, name=Laptop Model Y, description=High-performance laptop for professionals, warehouse_num=2\n"
     ]
    }
   ],
   "source": [
    "rows = session.execute(\"select (sku, name, description, warehouse_num) from m14python.warehouse\")\n",
    "for row in rows:\n",
    "    print(f\"sku={row[0][0]}, name={row[0][1]}, description={row[0][2]}, warehouse_num={row[0][3]}\")\n"
   ]
  },
  {
   "cell_type": "code",
   "execution_count": 20,
   "metadata": {},
   "outputs": [
    {
     "name": "stdout",
     "output_type": "stream",
     "text": [
      "SKU103, Headphones Model Z, Wireless noise-canceling headphones\n",
      "SKU101, Smartphone Model X, Latest smartphone with AI capabilities\n"
     ]
    }
   ],
   "source": [
    "rows = session.execute(\"select (sku, name, description) from m14python.warehouse where warehouse_num = 1 ALLOW FILTERING\")\n",
    "for row in rows:\n",
    "    print(f\"{row[0][0]}, {row[0][1]}, {row[0][2]}\")"
   ]
  }
 ],
 "metadata": {
  "kernelspec": {
   "display_name": "base",
   "language": "python",
   "name": "python3"
  },
  "language_info": {
   "codemirror_mode": {
    "name": "ipython",
    "version": 3
   },
   "file_extension": ".py",
   "mimetype": "text/x-python",
   "name": "python",
   "nbconvert_exporter": "python",
   "pygments_lexer": "ipython3",
   "version": "3.8.17"
  },
  "orig_nbformat": 4,
  "vscode": {
   "interpreter": {
    "hash": "c774f5f42cb3e70515ef7cb909d9051370cc09a28b296d74902002ebc2249cb4"
   }
  }
 },
 "nbformat": 4,
 "nbformat_minor": 2
}
