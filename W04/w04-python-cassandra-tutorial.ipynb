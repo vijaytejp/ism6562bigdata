{
 "cells": [
  {
   "cell_type": "markdown",
   "metadata": {},
   "source": []
  },
  {
   "cell_type": "markdown",
   "metadata": {},
   "source": [
    "# W04 Cassandra Python Tutorial"
   ]
  },
  {
   "attachments": {},
   "cell_type": "markdown",
   "metadata": {},
   "source": [
    "### Import packages"
   ]
  },
  {
   "cell_type": "code",
   "execution_count": 1,
   "metadata": {},
   "outputs": [],
   "source": [
    "import pandas as pd\n",
    "from cassandra.cluster import Cluster"
   ]
  },
  {
   "attachments": {},
   "cell_type": "markdown",
   "metadata": {},
   "source": [
    "### Create a session connection to Cassandra cluster"
   ]
  },
  {
   "cell_type": "code",
   "execution_count": 2,
   "metadata": {},
   "outputs": [],
   "source": [
    "clstr = Cluster()\n",
    "session = clstr.connect()"
   ]
  },
  {
   "attachments": {},
   "cell_type": "markdown",
   "metadata": {},
   "source": [
    "### Use session to 'talk' to cassandra"
   ]
  },
  {
   "cell_type": "code",
   "execution_count": 3,
   "metadata": {},
   "outputs": [
    {
     "data": {
      "text/plain": [
       "<cassandra.cluster.ResultSet at 0x10edc2610>"
      ]
     },
     "execution_count": 3,
     "metadata": {},
     "output_type": "execute_result"
    }
   ],
   "source": [
    "session.execute(\"DROP KEYSPACE IF EXISTS w04python\")"
   ]
  },
  {
   "cell_type": "code",
   "execution_count": 4,
   "metadata": {},
   "outputs": [
    {
     "name": "stdout",
     "output_type": "stream",
     "text": [
      "system\n",
      "system_auth\n",
      "system_distributed\n",
      "system_schema\n",
      "system_traces\n",
      "system_views\n",
      "system_virtual_schema\n"
     ]
    }
   ],
   "source": [
    "rows = session.execute(\"desc keyspaces\")\n",
    "for row in rows:\n",
    "    print(f\"{row[0]}\")"
   ]
  },
  {
   "cell_type": "code",
   "execution_count": 5,
   "metadata": {},
   "outputs": [
    {
     "data": {
      "text/plain": [
       "<cassandra.cluster.ResultSet at 0x12b0da650>"
      ]
     },
     "execution_count": 5,
     "metadata": {},
     "output_type": "execute_result"
    }
   ],
   "source": [
    "session.execute(\"CREATE KEYSPACE IF NOT EXISTS w04python WITH REPLICATION = {'class':'SimpleStrategy', 'replication_factor':2}\")"
   ]
  },
  {
   "cell_type": "code",
   "execution_count": 6,
   "metadata": {},
   "outputs": [
    {
     "name": "stdout",
     "output_type": "stream",
     "text": [
      "system\n",
      "system_auth\n",
      "system_distributed\n",
      "system_schema\n",
      "system_traces\n",
      "system_views\n",
      "system_virtual_schema\n",
      "w04python\n"
     ]
    }
   ],
   "source": [
    "rows = session.execute(\"desc keyspaces\")\n",
    "for row in rows:\n",
    "    print(f\"{row[0]}\")"
   ]
  },
  {
   "cell_type": "markdown",
   "metadata": {},
   "source": [
    "Create a student table for testing"
   ]
  },
  {
   "cell_type": "code",
   "execution_count": 7,
   "metadata": {},
   "outputs": [
    {
     "data": {
      "text/plain": [
       "<cassandra.cluster.ResultSet at 0x12bd05390>"
      ]
     },
     "execution_count": 7,
     "metadata": {},
     "output_type": "execute_result"
    }
   ],
   "source": [
    "session.execute(\"\"\"\n",
    "CREATE TABLE IF NOT EXISTS w04python.student ( \n",
    "    student_id INT, \n",
    "    f_name TEXT, \n",
    "    l_name TEXT, \n",
    "    course TEXT,\n",
    "    grade FLOAT, \n",
    "    PRIMARY KEY(course, grade, student_id)\n",
    ");\n",
    "\"\"\")"
   ]
  },
  {
   "attachments": {},
   "cell_type": "markdown",
   "metadata": {},
   "source": [
    "### Load data"
   ]
  },
  {
   "cell_type": "code",
   "execution_count": 8,
   "metadata": {},
   "outputs": [
    {
     "data": {
      "text/html": [
       "<div>\n",
       "<style scoped>\n",
       "    .dataframe tbody tr th:only-of-type {\n",
       "        vertical-align: middle;\n",
       "    }\n",
       "\n",
       "    .dataframe tbody tr th {\n",
       "        vertical-align: top;\n",
       "    }\n",
       "\n",
       "    .dataframe thead th {\n",
       "        text-align: right;\n",
       "    }\n",
       "</style>\n",
       "<table border=\"1\" class=\"dataframe\">\n",
       "  <thead>\n",
       "    <tr style=\"text-align: right;\">\n",
       "      <th></th>\n",
       "      <th>student_id</th>\n",
       "      <th>f_name</th>\n",
       "      <th>l_name</th>\n",
       "      <th>course</th>\n",
       "      <th>grade</th>\n",
       "    </tr>\n",
       "  </thead>\n",
       "  <tbody>\n",
       "    <tr>\n",
       "      <th>0</th>\n",
       "      <td>1000</td>\n",
       "      <td>'Tim'</td>\n",
       "      <td>'Smith'</td>\n",
       "      <td>'ISM6562'</td>\n",
       "      <td>95</td>\n",
       "    </tr>\n",
       "    <tr>\n",
       "      <th>1</th>\n",
       "      <td>1001</td>\n",
       "      <td>'John'</td>\n",
       "      <td>'Jones'</td>\n",
       "      <td>'ISM6562'</td>\n",
       "      <td>97</td>\n",
       "    </tr>\n",
       "    <tr>\n",
       "      <th>2</th>\n",
       "      <td>1002</td>\n",
       "      <td>'Jane'</td>\n",
       "      <td>'Williams'</td>\n",
       "      <td>'ISM6562'</td>\n",
       "      <td>89</td>\n",
       "    </tr>\n",
       "    <tr>\n",
       "      <th>3</th>\n",
       "      <td>1003</td>\n",
       "      <td>'Betty'</td>\n",
       "      <td>'Johnson'</td>\n",
       "      <td>'ISM6564'</td>\n",
       "      <td>78</td>\n",
       "    </tr>\n",
       "    <tr>\n",
       "      <th>4</th>\n",
       "      <td>1004</td>\n",
       "      <td>'Jim'</td>\n",
       "      <td>'Bean'</td>\n",
       "      <td>'ISM6564'</td>\n",
       "      <td>65</td>\n",
       "    </tr>\n",
       "    <tr>\n",
       "      <th>5</th>\n",
       "      <td>1005</td>\n",
       "      <td>'Frank'</td>\n",
       "      <td>'Gambali'</td>\n",
       "      <td>'ISM6564'</td>\n",
       "      <td>92</td>\n",
       "    </tr>\n",
       "    <tr>\n",
       "      <th>6</th>\n",
       "      <td>1006</td>\n",
       "      <td>'Judy'</td>\n",
       "      <td>'Garland'</td>\n",
       "      <td>'ISM6562'</td>\n",
       "      <td>87</td>\n",
       "    </tr>\n",
       "  </tbody>\n",
       "</table>\n",
       "</div>"
      ],
      "text/plain": [
       "   student_id   f_name      l_name     course  grade\n",
       "0        1000    'Tim'     'Smith'  'ISM6562'     95\n",
       "1        1001   'John'     'Jones'  'ISM6562'     97\n",
       "2        1002   'Jane'  'Williams'  'ISM6562'     89\n",
       "3        1003  'Betty'   'Johnson'  'ISM6564'     78\n",
       "4        1004    'Jim'      'Bean'  'ISM6564'     65\n",
       "5        1005  'Frank'   'Gambali'  'ISM6564'     92\n",
       "6        1006   'Judy'   'Garland'  'ISM6562'     87"
      ]
     },
     "execution_count": 8,
     "metadata": {},
     "output_type": "execute_result"
    }
   ],
   "source": [
    "df = pd.read_csv('../w04.csv')\n",
    "df"
   ]
  },
  {
   "cell_type": "code",
   "execution_count": 9,
   "metadata": {},
   "outputs": [
    {
     "name": "stdout",
     "output_type": "stream",
     "text": [
      "student_id = 1000, f_name ='Tim', l_name = 'Smith', course = 'ISM6562', grade = 95\n",
      "student_id = 1001, f_name ='John', l_name = 'Jones', course = 'ISM6562', grade = 97\n",
      "student_id = 1002, f_name ='Jane', l_name = 'Williams', course = 'ISM6562', grade = 89\n",
      "student_id = 1003, f_name ='Betty', l_name = 'Johnson', course = 'ISM6564', grade = 78\n",
      "student_id = 1004, f_name ='Jim', l_name = 'Bean', course = 'ISM6564', grade = 65\n",
      "student_id = 1005, f_name ='Frank', l_name = 'Gambali', course = 'ISM6564', grade = 92\n",
      "student_id = 1006, f_name ='Judy', l_name = 'Garland', course = 'ISM6562', grade = 87\n"
     ]
    }
   ],
   "source": [
    "for index, row in df.iterrows():\n",
    "    print(f\"student_id = {row.student_id}, f_name ={row.f_name}, l_name = {row.l_name}, course = {row.course}, grade = {row.grade}\")"
   ]
  },
  {
   "cell_type": "code",
   "execution_count": 10,
   "metadata": {},
   "outputs": [
    {
     "name": "stdout",
     "output_type": "stream",
     "text": [
      "\n",
      "        INSERT INTO w04python.student (student_id, f_name, l_name, course, grade)     \n",
      "        VALUES (1000, 'Tim', 'Smith', 'ISM6562', 95);\n",
      "        \n",
      "\n",
      "        INSERT INTO w04python.student (student_id, f_name, l_name, course, grade)     \n",
      "        VALUES (1001, 'John', 'Jones', 'ISM6562', 97);\n",
      "        \n",
      "\n",
      "        INSERT INTO w04python.student (student_id, f_name, l_name, course, grade)     \n",
      "        VALUES (1002, 'Jane', 'Williams', 'ISM6562', 89);\n",
      "        \n",
      "\n",
      "        INSERT INTO w04python.student (student_id, f_name, l_name, course, grade)     \n",
      "        VALUES (1003, 'Betty', 'Johnson', 'ISM6564', 78);\n",
      "        \n"
     ]
    },
    {
     "name": "stdout",
     "output_type": "stream",
     "text": [
      "\n",
      "        INSERT INTO w04python.student (student_id, f_name, l_name, course, grade)     \n",
      "        VALUES (1004, 'Jim', 'Bean', 'ISM6564', 65);\n",
      "        \n",
      "\n",
      "        INSERT INTO w04python.student (student_id, f_name, l_name, course, grade)     \n",
      "        VALUES (1005, 'Frank', 'Gambali', 'ISM6564', 92);\n",
      "        \n",
      "\n",
      "        INSERT INTO w04python.student (student_id, f_name, l_name, course, grade)     \n",
      "        VALUES (1006, 'Judy', 'Garland', 'ISM6562', 87);\n",
      "        \n"
     ]
    },
    {
     "name": "stderr",
     "output_type": "stream",
     "text": [
      "/var/folders/fc/_rjkdv156tv7hwc972mv_lsm0000gq/T/ipykernel_34665/45361915.py:4: FutureWarning: Series.__getitem__ treating keys as positions is deprecated. In a future version, integer keys will always be treated as labels (consistent with DataFrame behavior). To access a value by position, use `ser.iloc[pos]`\n",
      "  VALUES ({row[0]}, {row[1]}, {row[2]}, {row[3]}, {row[4]});\n",
      "/var/folders/fc/_rjkdv156tv7hwc972mv_lsm0000gq/T/ipykernel_34665/45361915.py:9: FutureWarning: Series.__getitem__ treating keys as positions is deprecated. In a future version, integer keys will always be treated as labels (consistent with DataFrame behavior). To access a value by position, use `ser.iloc[pos]`\n",
      "  VALUES ({row[0]}, {row[1]}, {row[2]}, {row[3]}, {row[4]});\n"
     ]
    }
   ],
   "source": [
    "for index, row in df.iterrows():\n",
    "    print(f\"\"\"\n",
    "        INSERT INTO w04python.student (student_id, f_name, l_name, course, grade)     \n",
    "        VALUES ({row[0]}, {row[1]}, {row[2]}, {row[3]}, {row[4]});\n",
    "        \"\"\"\n",
    "       )\n",
    "    session.execute(f\"\"\"\n",
    "        INSERT INTO w04python.student (student_id, f_name, l_name, course, grade)     \n",
    "        VALUES ({row[0]}, {row[1]}, {row[2]}, {row[3]}, {row[4]});\n",
    "        \"\"\"\n",
    "       )"
   ]
  },
  {
   "cell_type": "code",
   "execution_count": 12,
   "metadata": {},
   "outputs": [
    {
     "name": "stdout",
     "output_type": "stream",
     "text": [
      "student_id=1004, f_name=Jim, l_name=Bean, grade=ISM6564, grade=65.0\n",
      "student_id=1003, f_name=Betty, l_name=Johnson, grade=ISM6564, grade=78.0\n",
      "student_id=1005, f_name=Frank, l_name=Gambali, grade=ISM6564, grade=92.0\n",
      "student_id=1006, f_name=Judy, l_name=Garland, grade=ISM6562, grade=87.0\n",
      "student_id=1002, f_name=Jane, l_name=Williams, grade=ISM6562, grade=89.0\n",
      "student_id=1000, f_name=Tim, l_name=Smith, grade=ISM6562, grade=95.0\n",
      "student_id=1001, f_name=John, l_name=Jones, grade=ISM6562, grade=97.0\n"
     ]
    }
   ],
   "source": [
    "rows = session.execute(\"select (student_id, f_name, l_name, course, grade) from w04python.student\")\n",
    "for row in rows:\n",
    "    print(f\"student_id={row[0][0]}, f_name={row[0][1]}, l_name={row[0][2]}, grade={row[0][3]}, grade={row[0][4]}\")\n"
   ]
  },
  {
   "cell_type": "code",
   "execution_count": 13,
   "metadata": {},
   "outputs": [
    {
     "name": "stdout",
     "output_type": "stream",
     "text": [
      "Gambali, Frank, 92.0\n",
      "Garland, Judy, 87.0\n",
      "Williams, Jane, 89.0\n",
      "Smith, Tim, 95.0\n",
      "Jones, John, 97.0\n"
     ]
    }
   ],
   "source": [
    "rows = session.execute(\"select (l_name, f_name, grade) from w04python.student where grade > 80 ALLOW FILTERING\")\n",
    "for row in rows:\n",
    "    print(f\"{row[0][0]}, {row[0][1]}, {row[0][2]}\")"
   ]
  },
  {
   "attachments": {},
   "cell_type": "markdown",
   "metadata": {},
   "source": [
    "## Challenge\n",
    "\n",
    "Let's say we want to select all students with a grade higher than 90 but without requiring ALLOW FILTERING\n",
    "\n",
    "Can you come up with a way to to do this?\n",
    "\n",
    "Here are some resources to help you better understand cassandra ALLOW FILTERING and indexing (there are many other resources online):\n",
    "\n",
    "> For more informaiton on ALLOW FILTERING see: https://www.datastax.com/blog/allow-filtering-explained"
   ]
  }
 ],
 "metadata": {
  "kernelspec": {
   "display_name": "base",
   "language": "python",
   "name": "python3"
  },
  "language_info": {
   "codemirror_mode": {
    "name": "ipython",
    "version": 3
   },
   "file_extension": ".py",
   "mimetype": "text/x-python",
   "name": "python",
   "nbconvert_exporter": "python",
   "pygments_lexer": "ipython3",
   "version": "3.11.5"
  },
  "orig_nbformat": 4,
  "vscode": {
   "interpreter": {
    "hash": "c774f5f42cb3e70515ef7cb909d9051370cc09a28b296d74902002ebc2249cb4"
   }
  }
 },
 "nbformat": 4,
 "nbformat_minor": 2
}
